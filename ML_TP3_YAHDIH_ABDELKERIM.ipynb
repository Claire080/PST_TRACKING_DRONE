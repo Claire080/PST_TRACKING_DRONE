{
  "nbformat": 4,
  "nbformat_minor": 0,
  "metadata": {
    "colab": {
      "provenance": [],
      "authorship_tag": "ABX9TyMbl+bRWzMjNCz4cutluaOz",
      "include_colab_link": true
    },
    "kernelspec": {
      "name": "python3",
      "display_name": "Python 3"
    },
    "language_info": {
      "name": "python"
    }
  },
  "cells": [
    {
      "cell_type": "markdown",
      "metadata": {
        "id": "view-in-github",
        "colab_type": "text"
      },
      "source": [
        "<a href=\"https://colab.research.google.com/github/Claire080/PST_TRACKING_DRONE/blob/main/ML_TP3_YAHDIH_ABDELKERIM.ipynb\" target=\"_parent\"><img src=\"https://colab.research.google.com/assets/colab-badge.svg\" alt=\"Open In Colab\"/></a>"
      ]
    },
    {
      "cell_type": "code",
      "execution_count": 4,
      "metadata": {
        "id": "V2Xva8p5OKla"
      },
      "outputs": [],
      "source": [
        "#On dispose d’une base de données contenant 1797 images des 10 chiffres manuscrits.\n",
        "\n",
        "#Charger la base de données digits disponible sous sklearn.\n",
        "\n",
        "from sklearn.datasets import load_digits\n",
        "digits = load_digits()\n",
        "#Déterminer la dimension D des données et le nombre d’exemple par classe.\n"
      ]
    },
    {
      "cell_type": "code",
      "source": [
        "#Observer quelques images :\n",
        "for index in range (1,5):\n",
        "  import matplotlib.pyplot as plt\n",
        "  plt.gray()\n",
        "  plt.matshow(digits.images[index]) #index est le numéro de l’image\n",
        "  plt.show()"
      ],
      "metadata": {
        "colab": {
          "base_uri": "https://localhost:8080/",
          "height": 1000
        },
        "id": "dk-I8ThOOe9y",
        "outputId": "4d0719c8-8b0c-4288-df3b-7d99dd8ff106"
      },
      "execution_count": 5,
      "outputs": [
        {
          "output_type": "display_data",
          "data": {
            "text/plain": [
              "<Figure size 432x288 with 0 Axes>"
            ]
          },
          "metadata": {}
        },
        {
          "output_type": "display_data",
          "data": {
            "text/plain": [
              "<Figure size 288x288 with 1 Axes>"
            ],
            "image/png": "[encoded data removed]"
          },
          "metadata": {
            "needs_background": "light"
          }
        },
        {
          "output_type": "display_data",
          "data": {
            "text/plain": [
              "<Figure size 432x288 with 0 Axes>"
            ]
          },
          "metadata": {}
        },
        {
          "output_type": "display_data",
          "data": {
            "text/plain": [
              "<Figure size 288x288 with 1 Axes>"
            ],
            "image/png": "[encoded data removed]"
          },
          "metadata": {
            "needs_background": "light"
          }
        },
        {
          "output_type": "display_data",
          "data": {
            "text/plain": [
              "<Figure size 432x288 with 0 Axes>"
            ]
          },
          "metadata": {}
        },
        {
          "output_type": "display_data",
          "data": {
            "text/plain": [
              "<Figure size 288x288 with 1 Axes>"
            ],
            "image/png": "[encoded data removed]"
          },
          "metadata": {
            "needs_background": "light"
          }
        },
        {
          "output_type": "display_data",
          "data": {
            "text/plain": [
              "<Figure size 432x288 with 0 Axes>"
            ]
          },
          "metadata": {}
        },
        {
          "output_type": "display_data",
          "data": {
            "text/plain": [
              "<Figure size 288x288 with 1 Axes>"
            ],
            "image/png": "[encoded data removed]"
          },
          "metadata": {
            "needs_background": "light"
          }
        }
      ]
    },
    {
      "cell_type": "code",
      "source": [
        "#Pour récupérer les données et les labels :\n",
        "\n",
        "X = digits.data\n",
        "y = digits.target"
      ],
      "metadata": {
        "id": "iLfWuXHaOiVw"
      },
      "execution_count": 6,
      "outputs": []
    },
    {
      "cell_type": "code",
      "source": [
        "#Séparer une fois pour toutes la base initiale en deux : apprentissage (70%) et test (30%) (model_selection.train_test_split).\n",
        "from sklearn import model_selection\n",
        "#Réponse :\n",
        "X_train, X_test, y_train, y_test = model_selection.train_test_split(X, y, train_size=0.7, test_size=0.3)\n",
        "\n"
      ],
      "metadata": {
        "id": "_sQ4mOLAOkV7"
      },
      "execution_count": 7,
      "outputs": []
    },
    {
      "cell_type": "code",
      "source": [
        "from sklearn.neural_network import MLPClassifier\n",
        "C = 100 #hidden layer size\n",
        "clf1 = MLPClassifier(hidden_layer_sizes=C, activation= 'tanh', solver='sgd', batch_size=1, alpha=0, learning_rate='adaptive', verbose=1)\n",
        "clf1.fit(X_train, y_train)\n",
        "print('best loss = ', clf1.best_loss_)\n",
        "plt.plot(clf1.loss_curve_)\n",
        "plt.grid()\n",
        "plt.show()\n"
      ],
      "metadata": {
        "colab": {
          "base_uri": "https://localhost:8080/",
          "height": 1000
        },
        "id": "-oJbtSE0Pn8n",
        "outputId": "2a5d5995-809a-427f-ac2f-006ff3a41d25"
      },
      "execution_count": 8,
      "outputs": [
        {
          "output_type": "stream",
          "name": "stdout",
          "text": [
            "Iteration 1, loss = 0.72477583\n",
            "Iteration 2, loss = 0.30724621\n",
            "Iteration 3, loss = 0.25557024\n",
            "Iteration 4, loss = 0.24640939\n",
            "Iteration 5, loss = 0.25374490\n",
            "Iteration 6, loss = 0.17656368\n",
            "Iteration 7, loss = 0.17078520\n",
            "Iteration 8, loss = 0.19029472\n",
            "Iteration 9, loss = 0.16796378\n",
            "Iteration 10, loss = 0.17392227\n",
            "Iteration 11, loss = 0.14807587\n",
            "Iteration 12, loss = 0.11346354\n",
            "Iteration 13, loss = 0.14097802\n",
            "Iteration 14, loss = 0.13861404\n",
            "Iteration 15, loss = 0.12707696\n",
            "Iteration 16, loss = 0.11010165\n",
            "Iteration 17, loss = 0.12046439\n",
            "Iteration 18, loss = 0.12196896\n",
            "Iteration 19, loss = 0.12593330\n",
            "Iteration 20, loss = 0.14122807\n",
            "Iteration 21, loss = 0.11471889\n",
            "Iteration 22, loss = 0.11039713\n",
            "Iteration 23, loss = 0.09836975\n",
            "Iteration 24, loss = 0.12099271\n",
            "Iteration 25, loss = 0.12578452\n",
            "Iteration 26, loss = 0.11679858\n",
            "Iteration 27, loss = 0.08191928\n",
            "Iteration 28, loss = 0.09533012\n",
            "Iteration 29, loss = 0.18017397\n",
            "Iteration 30, loss = 0.10446637\n",
            "Iteration 31, loss = 0.10943072\n",
            "Iteration 32, loss = 0.10228056\n",
            "Iteration 33, loss = 0.07867621\n",
            "Iteration 34, loss = 0.09110268\n",
            "Iteration 35, loss = 0.04004328\n",
            "Iteration 36, loss = 0.05055191\n",
            "Iteration 37, loss = 0.07899952\n",
            "Iteration 38, loss = 0.06827541\n",
            "Iteration 39, loss = 0.07311738\n",
            "Iteration 40, loss = 0.07539129\n",
            "Iteration 41, loss = 0.05219600\n",
            "Iteration 42, loss = 0.08048164\n",
            "Iteration 43, loss = 0.06579100\n",
            "Iteration 44, loss = 0.04415244\n",
            "Iteration 45, loss = 0.11128992\n",
            "Iteration 46, loss = 0.06982395\n",
            "Training loss did not improve more than tol=0.000100 for 10 consecutive epochs. Setting learning rate to 0.000200\n",
            "Iteration 47, loss = 0.04671178\n",
            "Iteration 48, loss = 0.02840965\n",
            "Iteration 49, loss = 0.02199539\n",
            "Iteration 50, loss = 0.01983624\n",
            "Iteration 51, loss = 0.01854386\n",
            "Iteration 52, loss = 0.01697819\n",
            "Iteration 53, loss = 0.01644420\n",
            "Iteration 54, loss = 0.01554073\n",
            "Iteration 55, loss = 0.01498989\n",
            "Iteration 56, loss = 0.01429425\n",
            "Iteration 57, loss = 0.01366400\n",
            "Iteration 58, loss = 0.01319470\n",
            "Iteration 59, loss = 0.01285515\n",
            "Iteration 60, loss = 0.01254855\n",
            "Iteration 61, loss = 0.01213242\n",
            "Iteration 62, loss = 0.01188842\n",
            "Iteration 63, loss = 0.01150810\n",
            "Iteration 64, loss = 0.01112666\n",
            "Iteration 65, loss = 0.01079399\n",
            "Iteration 66, loss = 0.01050990\n",
            "Iteration 67, loss = 0.01032602\n",
            "Iteration 68, loss = 0.01012312\n",
            "Iteration 69, loss = 0.00994960\n",
            "Iteration 70, loss = 0.00983008\n",
            "Iteration 71, loss = 0.00967815\n",
            "Iteration 72, loss = 0.00950311\n",
            "Iteration 73, loss = 0.00939908\n",
            "Iteration 74, loss = 0.00923946\n",
            "Iteration 75, loss = 0.00912745\n",
            "Iteration 76, loss = 0.00897449\n",
            "Iteration 77, loss = 0.00883950\n",
            "Iteration 78, loss = 0.00869328\n",
            "Iteration 79, loss = 0.00845667\n",
            "Iteration 80, loss = 0.00834685\n",
            "Iteration 81, loss = 0.00809497\n",
            "Iteration 82, loss = 0.00807792\n",
            "Iteration 83, loss = 0.00786217\n",
            "Iteration 84, loss = 0.00775316\n",
            "Iteration 85, loss = 0.00764779\n",
            "Iteration 86, loss = 0.00754770\n",
            "Iteration 87, loss = 0.00745342\n",
            "Iteration 88, loss = 0.00736567\n",
            "Iteration 89, loss = 0.00725923\n",
            "Iteration 90, loss = 0.00719020\n",
            "Iteration 91, loss = 0.00707534\n",
            "Iteration 92, loss = 0.00697141\n",
            "Iteration 93, loss = 0.00686815\n",
            "Iteration 94, loss = 0.00679645\n",
            "Iteration 95, loss = 0.00669609\n",
            "Iteration 96, loss = 0.00663095\n",
            "Iteration 97, loss = 0.00655995\n",
            "Iteration 98, loss = 0.00648863\n",
            "Iteration 99, loss = 0.00641919\n",
            "Iteration 100, loss = 0.00635161\n",
            "Iteration 101, loss = 0.00629340\n",
            "Iteration 102, loss = 0.00622162\n",
            "Iteration 103, loss = 0.00617440\n",
            "Iteration 104, loss = 0.00611005\n",
            "Iteration 105, loss = 0.00605334\n",
            "Iteration 106, loss = 0.00598903\n",
            "Training loss did not improve more than tol=0.000100 for 10 consecutive epochs. Setting learning rate to 0.000040\n",
            "Iteration 107, loss = 0.00585470\n",
            "Iteration 108, loss = 0.00584299\n",
            "Iteration 109, loss = 0.00583253\n",
            "Iteration 110, loss = 0.00582108\n",
            "Iteration 111, loss = 0.00581062\n",
            "Iteration 112, loss = 0.00580105\n",
            "Iteration 113, loss = 0.00579075\n",
            "Iteration 114, loss = 0.00578028\n",
            "Iteration 115, loss = 0.00576826\n",
            "Iteration 116, loss = 0.00576060\n",
            "Iteration 117, loss = 0.00575020\n",
            "Iteration 118, loss = 0.00574055\n",
            "Training loss did not improve more than tol=0.000100 for 10 consecutive epochs. Setting learning rate to 0.000008\n",
            "Iteration 119, loss = 0.00571443\n",
            "Iteration 120, loss = 0.00571251\n",
            "Iteration 121, loss = 0.00571059\n",
            "Iteration 122, loss = 0.00570858\n",
            "Iteration 123, loss = 0.00570682\n",
            "Iteration 124, loss = 0.00570442\n",
            "Iteration 125, loss = 0.00570288\n",
            "Iteration 126, loss = 0.00570091\n",
            "Iteration 127, loss = 0.00569900\n",
            "Iteration 128, loss = 0.00569696\n",
            "Iteration 129, loss = 0.00569541\n",
            "Training loss did not improve more than tol=0.000100 for 10 consecutive epochs. Setting learning rate to 0.000002\n",
            "Iteration 130, loss = 0.00569010\n",
            "Iteration 131, loss = 0.00568971\n",
            "Iteration 132, loss = 0.00568935\n",
            "Iteration 133, loss = 0.00568896\n",
            "Iteration 134, loss = 0.00568857\n",
            "Iteration 135, loss = 0.00568817\n",
            "Iteration 136, loss = 0.00568781\n",
            "Iteration 137, loss = 0.00568743\n",
            "Iteration 138, loss = 0.00568699\n",
            "Iteration 139, loss = 0.00568666\n",
            "Iteration 140, loss = 0.00568631\n",
            "Training loss did not improve more than tol=0.000100 for 10 consecutive epochs. Setting learning rate to 0.000000\n",
            "Iteration 141, loss = 0.00568527\n",
            "Iteration 142, loss = 0.00568519\n",
            "Iteration 143, loss = 0.00568512\n",
            "Iteration 144, loss = 0.00568504\n",
            "Iteration 145, loss = 0.00568497\n",
            "Iteration 146, loss = 0.00568489\n",
            "Iteration 147, loss = 0.00568482\n",
            "Iteration 148, loss = 0.00568473\n",
            "Iteration 149, loss = 0.00568467\n",
            "Iteration 150, loss = 0.00568459\n",
            "Iteration 151, loss = 0.00568451\n",
            "Training loss did not improve more than tol=0.000100 for 10 consecutive epochs. Learning rate too small. Stopping.\n",
            "best loss =  0.005684511215991137\n"
          ]
        },
        {
          "output_type": "display_data",
          "data": {
            "text/plain": [
              "<Figure size 432x288 with 1 Axes>"
            ],
            "image/png": "[encoded data removed]"
          },
          "metadata": {
            "needs_background": "light"
          }
        }
      ]
    },
    {
      "cell_type": "code",
      "source": [
        "hidden_layer_sizes = [(i,) for i in range(10, 101, 10)]\n",
        "\n",
        "train_scores = []\n",
        "test_scores = []\n",
        "\n",
        "for c in hidden_layer_sizes:\n",
        "    clf = MLPClassifier(hidden_layer_sizes=c, activation='tanh', solver='sgd', batch_size=1, alpha=0, learning_rate='adaptive', verbose=0)\n",
        "    clf.fit(X_train, y_train)\n",
        "    train_score = clf.score(X_train, y_train)\n",
        "    test_score = clf.score(X_test, y_test)\n",
        "    train_scores.append(train_score)\n",
        "    test_scores.append(test_score)\n",
        "    print(f\"hidden_layer={c}: train score={train_score:.3f}, test score={test_score:.3f}\")\n",
        "\n",
        "## influence of nurones numbers \n",
        "\n",
        "import matplotlib.pyplot as plt\n",
        "\n",
        "plt.plot([c for (c,) in hidden_layer_sizes], train_scores, label='Training score')\n",
        "plt.plot([c for (c,) in hidden_layer_sizes], test_scores, label='Test score')\n",
        "plt.xlabel('Nombre de neurones cachés')\n",
        "plt.ylabel('Taux de reconnaissance')\n",
        "plt.legend()\n",
        "plt.show()"
      ],
      "metadata": {
        "colab": {
          "base_uri": "https://localhost:8080/",
          "height": 700
        },
        "id": "ZMYQZWTxeZur",
        "outputId": "0493cb17-479b-4316-b484-7cc2aa28f52d"
      },
      "execution_count": 9,
      "outputs": [
        {
          "output_type": "stream",
          "name": "stderr",
          "text": [
            "/usr/local/lib/python3.9/dist-packages/sklearn/neural_network/_multilayer_perceptron.py:686: ConvergenceWarning: Stochastic Optimizer: Maximum iterations (200) reached and the optimization hasn't converged yet.\n",
            "  warnings.warn(\n"
          ]
        },
        {
          "output_type": "stream",
          "name": "stdout",
          "text": [
            "hidden_layer=(10,): train score=0.958, test score=0.889\n"
          ]
        },
        {
          "output_type": "stream",
          "name": "stderr",
          "text": [
            "/usr/local/lib/python3.9/dist-packages/sklearn/neural_network/_multilayer_perceptron.py:686: ConvergenceWarning: Stochastic Optimizer: Maximum iterations (200) reached and the optimization hasn't converged yet.\n",
            "  warnings.warn(\n"
          ]
        },
        {
          "output_type": "stream",
          "name": "stdout",
          "text": [
            "hidden_layer=(20,): train score=0.990, test score=0.922\n"
          ]
        },
        {
          "output_type": "stream",
          "name": "stderr",
          "text": [
            "/usr/local/lib/python3.9/dist-packages/sklearn/neural_network/_multilayer_perceptron.py:686: ConvergenceWarning: Stochastic Optimizer: Maximum iterations (200) reached and the optimization hasn't converged yet.\n",
            "  warnings.warn(\n"
          ]
        },
        {
          "output_type": "stream",
          "name": "stdout",
          "text": [
            "hidden_layer=(30,): train score=0.997, test score=0.941\n"
          ]
        },
        {
          "output_type": "stream",
          "name": "stderr",
          "text": [
            "/usr/local/lib/python3.9/dist-packages/sklearn/neural_network/_multilayer_perceptron.py:686: ConvergenceWarning: Stochastic Optimizer: Maximum iterations (200) reached and the optimization hasn't converged yet.\n",
            "  warnings.warn(\n"
          ]
        },
        {
          "output_type": "stream",
          "name": "stdout",
          "text": [
            "hidden_layer=(40,): train score=0.994, test score=0.943\n"
          ]
        },
        {
          "output_type": "stream",
          "name": "stderr",
          "text": [
            "/usr/local/lib/python3.9/dist-packages/sklearn/neural_network/_multilayer_perceptron.py:686: ConvergenceWarning: Stochastic Optimizer: Maximum iterations (200) reached and the optimization hasn't converged yet.\n",
            "  warnings.warn(\n"
          ]
        },
        {
          "output_type": "stream",
          "name": "stdout",
          "text": [
            "hidden_layer=(50,): train score=0.998, test score=0.948\n"
          ]
        },
        {
          "output_type": "stream",
          "name": "stderr",
          "text": [
            "/usr/local/lib/python3.9/dist-packages/sklearn/neural_network/_multilayer_perceptron.py:686: ConvergenceWarning: Stochastic Optimizer: Maximum iterations (200) reached and the optimization hasn't converged yet.\n",
            "  warnings.warn(\n"
          ]
        },
        {
          "output_type": "stream",
          "name": "stdout",
          "text": [
            "hidden_layer=(60,): train score=0.995, test score=0.946\n",
            "hidden_layer=(70,): train score=1.000, test score=0.943\n",
            "hidden_layer=(80,): train score=0.999, test score=0.956\n",
            "hidden_layer=(90,): train score=0.999, test score=0.967\n",
            "hidden_layer=(100,): train score=1.000, test score=0.954\n"
          ]
        },
        {
          "output_type": "display_data",
          "data": {
            "text/plain": [
              "<Figure size 432x288 with 1 Axes>"
            ],
            "image/png": "[encoded data removed]"
          },
          "metadata": {
            "needs_background": "light"
          }
        }
      ]
    },
    {
      "cell_type": "markdown",
      "source": [
        "# **PARTIE 3**"
      ],
      "metadata": {
        "id": "t35SnDZ6e_dZ"
      }
    },
    {
      "cell_type": "code",
      "source": [
        "from sklearn.neural_network import MLPClassifier\n",
        "from sklearn.model_selection import train_test_split\n",
        "from sklearn.model_selection import cross_val_score\n",
        "import numpy as np\n",
        "\n",
        "\n",
        "from sklearn.model_selection import validation_curve\n",
        "\n",
        "X_train2, X_val, y_train2, y_val = train_test_split(X_train, y_train, test_size=0.2, random_state=1)\n",
        "\n",
        "C = np.array([1,2,3,4,5,8,10,15,20,25,30,35,40])\n",
        "\n",
        "mlp1 = MLPClassifier(activation='tanh', solver='adam', batch_size=1,alpha=0, learning_rate='adaptive',early_stopping=True, validation_fraction=0.2)\n",
        "\n",
        "train_scores, val_scores = validation_curve(mlp1, X_train2, y_train2, param_name=\"hidden_layer_sizes\",param_range=C,scoring=\"accuracy\", cv=10)\n",
        "\n",
        "\n",
        "\n",
        "print(\"Train scores:\\n\", train_scores)\n",
        "print(\"Validation scores:\\n\", val_scores)\n",
        "\n",
        "print(\"Train accuracy: {:.3f} +/- {:.3f}\".format(np.mean(train_scores), np.std(train_scores)))\n",
        "print(\"Validation accuracy: {:.3f} +/- {:.3f}\".format(np.mean(val_scores), np.std(val_scores)))\n",
        "\n"
      ],
      "metadata": {
        "colab": {
          "base_uri": "https://localhost:8080/"
        },
        "id": "Grk05JUgfHLy",
        "outputId": "d67bf764-4f71-4ef5-d5be-ab03997adf77"
      },
      "execution_count": 10,
      "outputs": [
        {
          "output_type": "stream",
          "name": "stdout",
          "text": [
            "Train scores:\n",
            " [[0.19358407 0.17920354 0.21902655 0.19911504 0.21902655 0.09834254\n",
            "  0.19116022 0.19779006 0.0961326  0.19668508]\n",
            " [0.39269912 0.19911504 0.2090708  0.40707965 0.39048673 0.37569061\n",
            "  0.18895028 0.20441989 0.26298343 0.44088398]\n",
            " [0.64048673 0.30199115 0.72345133 0.55641593 0.21017699 0.62872928\n",
            "  0.46629834 0.65414365 0.39668508 0.60662983]\n",
            " [0.58185841 0.49225664 0.76880531 0.81747788 0.79424779 0.77458564\n",
            "  0.80773481 0.83314917 0.73812155 0.84530387]\n",
            " [0.90929204 0.57522124 0.92699115 0.70022124 0.91261062 0.93701657\n",
            "  0.91270718 0.9359116  0.9281768  0.8121547 ]\n",
            " [0.95685841 0.97787611 0.98230088 0.88495575 0.94247788 0.9679558\n",
            "  0.9480663  0.98453039 0.96132597 0.9679558 ]\n",
            " [0.96128319 0.93584071 0.97123894 0.95353982 0.95575221 0.96906077\n",
            "  0.97016575 0.96464088 0.98121547 0.97790055]\n",
            " [0.98230088 0.99004425 0.95464602 0.98672566 0.98119469 0.97900552\n",
            "  0.99226519 0.99116022 0.9878453  0.97458564]\n",
            " [0.95022124 0.98893805 0.98893805 0.98783186 0.98783186 0.9878453\n",
            "  0.99005525 0.98342541 0.99005525 0.9878453 ]\n",
            " [0.99004425 0.99115044 0.99115044 0.99557522 0.99557522 0.99447514\n",
            "  0.98232044 0.97679558 0.99337017 0.99447514]\n",
            " [0.99778761 0.99446903 0.98451327 0.99225664 0.99336283 0.99558011\n",
            "  0.97016575 0.98453039 0.99779006 0.98453039]\n",
            " [0.98119469 0.99004425 0.98561947 0.99446903 0.99115044 0.99005525\n",
            "  0.98342541 0.99558011 0.99779006 0.98895028]\n",
            " [0.98672566 0.99004425 0.98893805 0.99557522 0.98561947 0.99116022\n",
            "  0.99558011 0.99889503 0.99337017 0.99116022]]\n",
            "Validation scores:\n",
            " [[0.16831683 0.18811881 0.1980198  0.20792079 0.1980198  0.1\n",
            "  0.17       0.18       0.1        0.19      ]\n",
            " [0.35643564 0.20792079 0.18811881 0.37623762 0.36633663 0.37\n",
            "  0.2        0.22       0.25       0.34      ]\n",
            " [0.58415842 0.26732673 0.63366337 0.54455446 0.17821782 0.62\n",
            "  0.44       0.66       0.38       0.56      ]\n",
            " [0.59405941 0.45544554 0.71287129 0.76237624 0.7029703  0.81\n",
            "  0.79       0.76       0.73       0.79      ]\n",
            " [0.9009901  0.5049505  0.84158416 0.69306931 0.87128713 0.9\n",
            "  0.85       0.88       0.88       0.75      ]\n",
            " [0.96039604 0.92079208 0.94059406 0.84158416 0.9009901  0.94\n",
            "  0.9        0.95       0.93       0.91      ]\n",
            " [0.95049505 0.89108911 0.9009901  0.88118812 0.88118812 0.93\n",
            "  0.92       0.93       0.93       0.92      ]\n",
            " [0.94059406 0.98019802 0.9009901  0.95049505 0.93069307 0.95\n",
            "  0.95       0.94       0.96       0.95      ]\n",
            " [0.93069307 0.95049505 0.93069307 0.93069307 0.93069307 0.95\n",
            "  0.95       0.94       0.96       0.96      ]\n",
            " [0.98019802 0.96039604 0.94059406 0.97029703 0.94059406 0.95\n",
            "  0.96       0.94       0.96       0.97      ]\n",
            " [0.99009901 0.96039604 0.93069307 0.92079208 0.93069307 0.95\n",
            "  0.94       0.97       0.97       0.94      ]\n",
            " [0.92079208 0.96039604 0.95049505 0.97029703 0.96039604 0.95\n",
            "  0.97       0.94       0.99       0.94      ]\n",
            " [0.93069307 0.97029703 0.91089109 0.95049505 0.93069307 0.99\n",
            "  0.95       0.97       0.95       0.97      ]]\n",
            "Train accuracy: 0.804 +/- 0.283\n",
            "Validation accuracy: 0.769 +/- 0.274\n"
          ]
        }
      ]
    },
    {
      "cell_type": "code",
      "source": [
        "from sklearn.metrics import confusion_matrix\n",
        "from sklearn import metrics\n",
        "\n",
        "# optimal number of nurones in hiding layer\n",
        "best_n = C[np.argmax(np.mean(val_scores, axis=1))]\n",
        "print(\"Meilleur nombre de neurones dans la couche cachée :\", best_n)\n",
        "\n",
        "#new training\n",
        "mlp1 = MLPClassifier(hidden_layer_sizes=(best_n,), activation='tanh', solver='adam', batch_size=1,\n",
        "                    alpha=0, learning_rate='adaptive', early_stopping=True, validation_fraction=0.2)\n",
        "mlp1.fit(X_train2, y_train2)\n",
        "\n",
        "# predictions in test\n",
        "y_pred = mlp1.predict(X_test)\n",
        "\n",
        "# la matrice de confusion\n",
        "confusion_mat = metrics.confusion_matrix(y_test, y_pred)\n",
        "\n",
        "print(\"Matrice de confusion :\\n\", confusion_mat)\n",
        "\n",
        "render = metrics.ConfusionMatrixDisplay(confusion_mat)\n",
        "render.plot()"
      ],
      "metadata": {
        "colab": {
          "base_uri": "https://localhost:8080/",
          "height": 517
        },
        "id": "inOGwUn4fUZZ",
        "outputId": "5ec5f0d3-dcb8-405e-b13c-d7542fd8b88c"
      },
      "execution_count": 11,
      "outputs": [
        {
          "output_type": "stream",
          "name": "stdout",
          "text": [
            "Meilleur nombre de neurones dans la couche cachée : 25\n",
            "Matrice de confusion :\n",
            " [[50  0  0  0  4  0  0  0  0  0]\n",
            " [ 0 48  2  0  0  0  0  0  1  0]\n",
            " [ 0  0 59  0  0  0  0  0  0  0]\n",
            " [ 1  0  1 50  0  0  0  1  2  2]\n",
            " [ 2  1  0  0 50  0  0  0  2  0]\n",
            " [ 0  0  1  0  1 44  2  0  0  1]\n",
            " [ 1  1  0  0  0  0 61  0  0  0]\n",
            " [ 0  0  0  0  0  0  0 54  0  0]\n",
            " [ 0  2  0  0  0  2  0  0 40  0]\n",
            " [ 0  0  0  0  0  0  0  2  1 51]]\n"
          ]
        },
        {
          "output_type": "execute_result",
          "data": {
            "text/plain": [
              "<sklearn.metrics._plot.confusion_matrix.ConfusionMatrixDisplay at 0x7f4a1f6fb1f0>"
            ]
          },
          "metadata": {},
          "execution_count": 11
        },
        {
          "output_type": "display_data",
          "data": {
            "text/plain": [
              "<Figure size 432x288 with 2 Axes>"
            ],
            "image/png": "[encoded data removed]"
          },
          "metadata": {
            "needs_background": "light"
          }
        }
      ]
    },
    {
      "cell_type": "code",
      "source": [
        "from sklearn.neighbors import KNeighborsClassifier\n",
        "\n",
        "X_train, X_test, y_train, y_test = train_test_split(X, y, train_size=0.80, test_size=0.20, random_state=1)\n",
        "\n",
        "acc_train3 = []\n",
        "for k in range (1, 64):\n",
        "    one_NN = KNeighborsClassifier(n_neighbors=k, algorithm='brute')\n",
        "    one_NN.fit(X_train, y_train)\n",
        "    acc_train3.append(one_NN.score(X_train, y_train))    \n",
        "\n",
        "\n",
        "print('mean accuracy Train = ',  round(np.mean(acc_train3),2))\n",
        "print('std accuracy Train= ',  round(np.std(acc_train3),2))"
      ],
      "metadata": {
        "colab": {
          "base_uri": "https://localhost:8080/"
        },
        "id": "TAJuDqBvoRZC",
        "outputId": "ba01cdba-cbd0-451b-fdfd-6b1228a57e95"
      },
      "execution_count": 17,
      "outputs": [
        {
          "output_type": "stream",
          "name": "stdout",
          "text": [
            "mean accuracy Train =  0.96\n",
            "std accuracy Train=  0.02\n"
          ]
        }
      ]
    },
    {
      "cell_type": "markdown",
      "source": [
        "# **PARTIE 4**"
      ],
      "metadata": {
        "id": "qPlafytDffBb"
      }
    },
    {
      "cell_type": "code",
      "source": [
        "#distance reject\n",
        "def argmax_reject_threshold(y, threshold):\n",
        "    y_argmax = np.argmax(y, axis=1)\n",
        "    y_masked = np.ma.array(y_argmax, mask=(np.amax(y, axis=1) < threshold))\n",
        "\n",
        "    return y_masked.filled(-1)\n",
        "\n",
        "#ambiguity reject\n",
        "def argmax_top2_reject_threshold(y, threshold):\n",
        "    y_argmax = np.argmax(y, axis=1)\n",
        "    y_top2 = np.sort(y, axis=1)[:,-1:-3:-1]\n",
        "    y_masked = np.ma.array(y_argmax, mask=((y_top2[:,0] - y_top2[:,1]) < threshold))\n",
        "\n",
        "    return y_masked.filled(-1)"
      ],
      "metadata": {
        "id": "v_UfYbCnfhBc"
      },
      "execution_count": 12,
      "outputs": []
    },
    {
      "cell_type": "code",
      "source": [
        "from sklearn.metrics import accuracy_score\n",
        "\n",
        "# posterior probabilities of classes\n",
        "y_proba = mlp1.predict_proba(X_test)\n",
        "\n",
        "# thresholds for test\n",
        "thresholds = np.arange(0, 1.01, 0.01)\n",
        "\n",
        "reject_rates = []\n",
        "recognition_rates = []\n",
        "reject_rates_top2 = [] \n",
        "recognition_rates_top2 = [] \n",
        "\n",
        "# Testing every threshold\n",
        "for threshold in thresholds:\n",
        "    # Applying distance reject\n",
        "    y_pred_reject = argmax_reject_threshold(y_proba, threshold)\n",
        "    reject_rate = np.sum(y_pred_reject == -1) / len(y_pred_reject)\n",
        "    recognition_rate = accuracy_score(y_test[y_pred_reject != -1], y_pred_reject[y_pred_reject != -1])\n",
        "    reject_rates.append(reject_rate)\n",
        "    recognition_rates.append(recognition_rate)\n",
        "\n",
        "    # Applying ambiguity reject\n",
        "    y_pred_top2_reject = argmax_top2_reject_threshold(y_proba, threshold)\n",
        "    reject_rate_top2 = np.sum(y_pred_top2_reject == -1) / len(y_pred_top2_reject)\n",
        "    recognition_rate_top2 = accuracy_score(y_test[y_pred_top2_reject != -1], y_pred_top2_reject[y_pred_top2_reject != -1])\n",
        "    reject_rates_top2.append(reject_rate_top2)\n",
        "    recognition_rates_top2.append(recognition_rate_top2)"
      ],
      "metadata": {
        "colab": {
          "base_uri": "https://localhost:8080/"
        },
        "id": "F8NpUVT_fil9",
        "outputId": "b9cb311e-d3c3-4c57-e9e3-b11f9c2402fb"
      },
      "execution_count": 13,
      "outputs": [
        {
          "output_type": "stream",
          "name": "stderr",
          "text": [
            "/usr/local/lib/python3.9/dist-packages/numpy/lib/function_base.py:495: RuntimeWarning: Mean of empty slice.\n",
            "  avg = a.mean(axis)\n",
            "/usr/local/lib/python3.9/dist-packages/numpy/core/_methods.py:189: RuntimeWarning: invalid value encountered in double_scalars\n",
            "  ret = ret.dtype.type(ret / rcount)\n",
            "/usr/local/lib/python3.9/dist-packages/numpy/lib/function_base.py:495: RuntimeWarning: Mean of empty slice.\n",
            "  avg = a.mean(axis)\n",
            "/usr/local/lib/python3.9/dist-packages/numpy/core/_methods.py:189: RuntimeWarning: invalid value encountered in double_scalars\n",
            "  ret = ret.dtype.type(ret / rcount)\n"
          ]
        }
      ]
    },
    {
      "cell_type": "code",
      "source": [
        "plt.plot(reject_rates, recognition_rates, label='Rejet de distance')\n",
        "plt.plot(reject_rates_top2, recognition_rates_top2, label='Rejet d\\'ambiguïté')\n",
        "plt.xlabel('Taux de rejet')\n",
        "plt.ylabel('Taux de reconnaissance')\n",
        "plt.legend()\n",
        "plt.show()"
      ],
      "metadata": {
        "colab": {
          "base_uri": "https://localhost:8080/",
          "height": 279
        },
        "id": "YcG-M2hKfou2",
        "outputId": "d62c83e3-f428-4df8-9823-e30246d9ff81"
      },
      "execution_count": 14,
      "outputs": [
        {
          "output_type": "display_data",
          "data": {
            "text/plain": [
              "<Figure size 432x288 with 1 Axes>"
            ],
            "image/png": "[encoded data removed]"
          },
          "metadata": {
            "needs_background": "light"
          }
        }
      ]
    },
    {
      "cell_type": "code",
      "source": [
        "best_top2_thresholds = np.array(recognition_rates_top2) / np.array(reject_rates_top2)\n",
        "print(f'Meilleur seuil : {best_top2_thresholds}')\n",
        "plt.plot(thresholds, best_top2_thresholds)\n",
        "plt.xlabel(\"Thresholds\")\n",
        "plt.ylabel(\"Exemples bien classés sur Exemples rejetés\")\n",
        "plt.show()"
      ],
      "metadata": {
        "colab": {
          "base_uri": "https://localhost:8080/",
          "height": 698
        },
        "id": "kj19Hwscfy0O",
        "outputId": "b0edda54-2fc6-41aa-8653-3bbbe203242b"
      },
      "execution_count": 15,
      "outputs": [
        {
          "output_type": "stream",
          "name": "stderr",
          "text": [
            "<ipython-input-15-10307b3965ec>:1: RuntimeWarning: divide by zero encountered in true_divide\n",
            "  best_top2_thresholds = np.array(recognition_rates_top2) / np.array(reject_rates_top2)\n"
          ]
        },
        {
          "output_type": "stream",
          "name": "stdout",
          "text": [
            "Meilleur seuil : [         inf          inf 253.94052045 169.27374302 169.27374302\n",
            " 126.94029851 101.74205607  84.94382022  72.80085768  56.83615819\n",
            "  56.83615819  56.83615819  56.83615819  51.14716981  42.69886364\n",
            "  42.69886364  36.59152634  34.21714286  34.21714286  34.21714286\n",
            "  34.21714286  34.21714286  34.21714286  34.21714286  32.13979008\n",
            "  30.30705208  27.16638044  27.16638044  25.85769231  23.55036855\n",
            "  23.55036855  23.55036855  23.55036855  23.55036855  23.55036855\n",
            "  23.55036855  22.52459844  22.52459844  21.62790698  20.76116505\n",
            "  19.96108949  19.96108949  19.96108949  19.96108949  19.96108949\n",
            "  18.60770089  18.00121466  17.43529412  17.43529412  16.90601432\n",
            "  16.37672244  16.37672244  16.37672244  16.37672244  16.37672244\n",
            "  16.37672244  16.37672244  16.37672244  14.15936812  13.81421682\n",
            "  13.45923538  13.122       13.122       12.80121218  12.49569707\n",
            "  11.95106305  11.20970178  10.75107029  10.75107029  10.75107029\n",
            "  10.75107029  10.35005413  10.35005413  10.35005413   9.79423868\n",
            "   9.61574508   9.27754168   8.96226083   8.8125       8.8125\n",
            "   8.8125       8.66764776   8.13279352   7.90634565   7.80658026\n",
            "   7.40384615   7.20334068   6.83316683   6.83316683   6.66195652\n",
            "   6.42060584   6.26916613   5.94666667   5.71891995   5.08260151\n",
            "   4.72572276   4.27536232   3.63934087   3.07726027   2.37885463\n",
            "          nan]\n"
          ]
        },
        {
          "output_type": "display_data",
          "data": {
            "text/plain": [
              "<Figure size 432x288 with 1 Axes>"
            ],
            "image/png": "[encoded data removed]"
          },
          "metadata": {
            "needs_background": "light"
          }
        }
      ]
    },
    {
      "cell_type": "markdown",
      "source": [
        "# **PAERIE 5**"
      ],
      "metadata": {
        "id": "q6W9r_1Qf2zs"
      }
    },
    {
      "cell_type": "code",
      "source": [
        "from sklearn import metrics\n",
        "from sklearn.neighbors import KNeighborsClassifier\n",
        "from sklearn.metrics import ConfusionMatrixDisplay\n",
        "\n",
        "arg1 = argmax_reject_threshold(mlp1.predict_proba(X_test),0.5)\n",
        "arg2 = argmax_top2_reject_threshold(mlp1.predict_proba(X_test),0.5)\n",
        "\n",
        "new_pred = np.squeeze(KNeighborsClassifier(n_neighbors=1, algorithm='brute').fit(X_train, y_train).predict(X_test))\n",
        "y_pred1 = mlp1.predict(X_test)\n",
        "\n",
        "tmp = np.where((arg1 != -1) & (arg1 != y_test), y_pred1, arg1)\n",
        "tmp2 = np.where((arg2 != -1) & (arg2 != y_test), y_pred1, arg2)\n",
        "\n",
        "tmp = np.where(tmp == -1, new_pred, tmp)\n",
        "tmp2 = np.where(tmp2 == -1, new_pred, tmp2)\n",
        "\n",
        "# Rate of global error\n",
        "err_rate_cascade = 1 - metrics.accuracy_score(y_test, tmp2)\n",
        "\n",
        "print(\"Taux d'erreur global de la cascade de classifieurs : {:.2f}%\".format(err_rate_cascade*100))\n",
        "\n",
        "\n",
        "cm = metrics.confusion_matrix(y_test, tmp)\n",
        "disp = ConfusionMatrixDisplay(confusion_matrix=cm)\n",
        "disp.plot()\n",
        "\n",
        "cm = metrics.confusion_matrix(y_test, tmp2)\n",
        "disp = ConfusionMatrixDisplay(confusion_matrix=cm)\n",
        "disp.plot()\n"
      ],
      "metadata": {
        "colab": {
          "base_uri": "https://localhost:8080/",
          "height": 578
        },
        "id": "k47og61of126",
        "outputId": "dcc6c372-db66-467d-a22c-8ee78bb51d5f"
      },
      "execution_count": 16,
      "outputs": [
        {
          "output_type": "stream",
          "name": "stdout",
          "text": [
            "Taux d'erreur global de la cascade de classifieurs : 3.33%\n"
          ]
        },
        {
          "output_type": "execute_result",
          "data": {
            "text/plain": [
              "<sklearn.metrics._plot.confusion_matrix.ConfusionMatrixDisplay at 0x7f4a21a73e20>"
            ]
          },
          "metadata": {},
          "execution_count": 16
        },
        {
          "output_type": "display_data",
          "data": {
            "text/plain": [
              "<Figure size 432x288 with 2 Axes>"
            ],
            "image/png": "[encoded data removed]"
          },
          "metadata": {
            "needs_background": "light"
          }
        },
        {
          "output_type": "display_data",
          "data": {
            "text/plain": [
              "<Figure size 432x288 with 2 Axes>"
            ],
            "image/png": "[encoded data removed]"
          },
          "metadata": {
            "needs_background": "light"
          }
        }
      ]
    }
  ]
}